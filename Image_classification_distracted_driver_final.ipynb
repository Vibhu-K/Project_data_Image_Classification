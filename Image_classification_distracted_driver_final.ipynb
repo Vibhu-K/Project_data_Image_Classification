{
  "nbformat": 4,
  "nbformat_minor": 0,
  "metadata": {
    "colab": {
      "name": "Image_classification_distracted_driver.ipynb",
      "provenance": [],
      "collapsed_sections": [],
      "private_outputs": true
    },
    "kernelspec": {
      "name": "python3",
      "display_name": "Python 3"
    },
    "language_info": {
      "name": "python"
    }
  },
  "cells": [
    {
      "cell_type": "code",
      "execution_count": null,
      "metadata": {
        "id": "EY3kky1nUsLv"
      },
      "outputs": [],
      "source": [
        "from tensorflow.keras.preprocessing.image import ImageDataGenerator,load_img\n",
        "from tensorflow.keras.preprocessing import image\n",
        "from tensorflow.keras.layers import Conv2D,Flatten,Dense,MaxPool2D,BatchNormalization,GlobalAveragePooling2D\n",
        "from tensorflow.keras import datasets, layers, models\n",
        "from tensorflow.keras.optimizers import RMSprop\n",
        "import tensorflow as tf\n",
        "import matplotlib.pyplot as plt\n",
        "import numpy as np\n",
        "from PIL import Image\n",
        "import glob\n",
        "import os \n",
        "import cv2\n",
        "import pandas as pd \n"
      ]
    },
    {
      "cell_type": "code",
      "source": [
        "#import splitfolders "
      ],
      "metadata": {
        "id": "IQ_xnc03DJ83"
      },
      "execution_count": null,
      "outputs": []
    },
    {
      "cell_type": "code",
      "source": [
        "#input=\"/content/drive/MyDrive/Project_data/train\"\n",
        "#output=\"/content/drive/MyDrive/Project_data/Processed_data\"\n",
        "#splitfolders.ratio(input, output, seed=42, ratio=(0.8,0.2))"
      ],
      "metadata": {
        "id": "iE3FgSVfDM0B"
      },
      "execution_count": null,
      "outputs": []
    },
    {
      "cell_type": "code",
      "source": [
        "#img=image.load_img(\"/content/drive/MyDrive/Project_data/train/c0/img_34.jpg\")\n",
        "#img=img.resize((200,200))"
      ],
      "metadata": {
        "id": "JRZTo9HHUuVy"
      },
      "execution_count": null,
      "outputs": []
    },
    {
      "cell_type": "code",
      "source": [
        "#plt.imshow(img)"
      ],
      "metadata": {
        "id": "cE1--cIEcS7Q"
      },
      "execution_count": null,
      "outputs": []
    },
    {
      "cell_type": "code",
      "source": [
        "#cv2.imread(\"/content/drive/MyDrive/Project_data/train/c0/img_34.jpg\").shape"
      ],
      "metadata": {
        "id": "WQJ1o8YjcXEM"
      },
      "execution_count": null,
      "outputs": []
    },
    {
      "cell_type": "code",
      "source": [
        "train=ImageDataGenerator(rescale=1/255)\n",
        "validation=ImageDataGenerator(rescale=1/255)"
      ],
      "metadata": {
        "id": "SwBjzWv_fPag"
      },
      "execution_count": null,
      "outputs": []
    },
    {
      "cell_type": "code",
      "source": [
        "train_dataset=train.flow_from_directory('/content/drive/MyDrive/Project_data/Processed_data/train',\n",
        "                                        target_size=(200,200),\n",
        "                                        batch_size=50,\n",
        "                                        class_mode='categorical')\n",
        "validation_dataset=validation.flow_from_directory('/content/drive/MyDrive/Project_data/Processed_data/val',\n",
        "                                        target_size=(200,200),\n",
        "                                        batch_size=50,\n",
        "                                        class_mode='categorical')"
      ],
      "metadata": {
        "id": "cx3RiFErkOkA"
      },
      "execution_count": null,
      "outputs": []
    },
    {
      "cell_type": "code",
      "source": [
        "model=tf.keras.models.Sequential([tf.keras.layers.Conv2D(16,(3,3),activation='relu',input_shape=(200,200,3)),\n",
        "                                  tf.keras.layers.MaxPool2D(2,2),\n",
        "                                  #\n",
        "                                  tf.keras.layers.Conv2D(32,(3,3),activation='relu'),\n",
        "                                  tf.keras.layers.MaxPool2D(2,2),\n",
        "                                  #\n",
        "                                  tf.keras.layers.Conv2D(64,(3,3),activation='relu'),\n",
        "                                  tf.keras.layers.MaxPool2D(2,2),\n",
        "                                  #\n",
        "                                  tf.keras.layers.Flatten(),\n",
        "                                  #\n",
        "                                  tf.keras.layers.Dense(512,activation='relu'),\n",
        "                                  #\n",
        "                                  tf.keras.layers.Dense(1,activation='softmax'),                             \n",
        "                                  ])"
      ],
      "metadata": {
        "id": "iaA1y2DllO0f"
      },
      "execution_count": null,
      "outputs": []
    },
    {
      "cell_type": "code",
      "source": [
        "model.compile(loss='categorical_crossentropy',\n",
        "              optimizer='rmsprop',\n",
        "              metrics=['accuracy'])"
      ],
      "metadata": {
        "id": "bna-oS1jk9FK"
      },
      "execution_count": null,
      "outputs": []
    },
    {
      "cell_type": "code",
      "source": [
        "model.fit(train_dataset,\n",
        "          validation_data=validation_dataset,\n",
        "          epochs=1,\n",
        "          #steps_per_epoch=train_dataset.samples/train_dataset.batch_size\n",
        "          #steps_per_epoch=10\n",
        "          )\n",
        "                    "
      ],
      "metadata": {
        "id": "HcaO0Jd8mt4t"
      },
      "execution_count": null,
      "outputs": []
    },
    {
      "cell_type": "code",
      "source": [
        "#from google.colab import drive\n",
        "#drive.mount('/content/drive')"
      ],
      "metadata": {
        "id": "P-B1C9QWPtD7"
      },
      "execution_count": null,
      "outputs": []
    },
    {
      "cell_type": "code",
      "source": [
        "predictions=[]\n",
        "image_name=[]\n",
        "m=0\n",
        "dir_path=\"/content/drive/MyDrive/Project_data/test\"\n",
        "for i in os.listdir(dir_path):\n",
        "  img=image.load_img(dir_path+\"//\"+i,target_size=(200,200))\n",
        "  x=image.img_to_array(img)\n",
        "  x=x/255\n",
        "  x=np.expand_dims(x,axis=0)\n",
        "  pred=model.predict(x)\n",
        "  predictions.append(pred)\n",
        "  name=(os.path.splitext(i))\n",
        "  img_name= str(name[0]+name[1])\n",
        "  image_name.append(img_name)\n",
        "  print (m)\n",
        "  m=m+1\n",
        "  if m == 1001:\n",
        "        break    \n",
        "  \n"
      ],
      "metadata": {
        "id": "248Estr1EYb2"
      },
      "execution_count": null,
      "outputs": []
    },
    {
      "cell_type": "code",
      "source": [
        "p=np.array(predictions)\n",
        "q=np.squeeze(p, axis=None)\n",
        "V=pd.DataFrame(q,)\n",
        "K=pd.DataFrame(image_name)\n",
        "K.columns =['img']\n",
        "V.columns=[\"c0\",\"c1\",\"c2\",\"c3\",\"c4\",\"c5\",\"c6\",\"c7\",\"c8\",\"c9\"]"
      ],
      "metadata": {
        "id": "WFNBndfXKyDx"
      },
      "execution_count": null,
      "outputs": []
    },
    {
      "cell_type": "code",
      "source": [
        "Fin_pred=pd.concat([K,V],axis=1)"
      ],
      "metadata": {
        "id": "EWmlv6MjMqih"
      },
      "execution_count": null,
      "outputs": []
    },
    {
      "cell_type": "code",
      "source": [
        "Fin_pred.head()"
      ],
      "metadata": {
        "id": "WiRfnrFfNHxI"
      },
      "execution_count": null,
      "outputs": []
    },
    {
      "cell_type": "code",
      "source": [
        "Fin_pred.to_csv('pred_DL_proj_1.csv',index=None)"
      ],
      "metadata": {
        "id": "oLp1C4rxN1rN"
      },
      "execution_count": null,
      "outputs": []
    },
    {
      "cell_type": "code",
      "source": [
        "!cp /content/pred_DL_proj_1.csv /content/drive/MyDrive"
      ],
      "metadata": {
        "id": "dWjozjb9UCot"
      },
      "execution_count": null,
      "outputs": []
    }
  ]
}